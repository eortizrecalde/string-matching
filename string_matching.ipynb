{
 "cells": [
  {
   "cell_type": "markdown",
   "metadata": {},
   "source": [
    "# A String Matching Story\n",
    "\n",
    "Author: Ezequiel Ortiz Recalde"
   ]
  },
  {
   "cell_type": "markdown",
   "metadata": {},
   "source": [
    "### 1. Imports"
   ]
  },
  {
   "cell_type": "code",
   "execution_count": 2,
   "metadata": {},
   "outputs": [],
   "source": [
    "import itertools\n",
    "import numpy as np\n",
    "import pandas as pd\n",
    "\n",
    "from nltk.metrics.distance import edit_distance\n",
    "from fuzzywuzzy import fuzz\n",
    "from polyfuzz import PolyFuzz\n",
    "from polyfuzz.models import TFIDF"
   ]
  },
  {
   "cell_type": "markdown",
   "metadata": {},
   "source": [
    "### 2. The data"
   ]
  },
  {
   "cell_type": "code",
   "execution_count": 3,
   "metadata": {},
   "outputs": [],
   "source": [
    "def data_generator(variant,flavour,product,quantity):\n",
    "    permutations=itertools.product(variant,flavour,product,quantity)\n",
    "    combinations=list(permutations)\n",
    "    data=pd.DataFrame(combinations, columns=[\"variant\",\"flavour\",\"product\",\"quantity\"])\n",
    "    data[\"product_option_1\"]=\"beverages \"+data[\"product\"]+\" \"+data[\"variant\"]+\" \"+data[\"flavour\"]+\" \"+data[\"quantity\"]\n",
    "    data[\"product_option_2\"]=\"beverage \"+data[\"variant\"]+\" \"+data[\"flavour\"]+\" \"+data[\"product\"]+\" \"+data[\"quantity\"]\n",
    "    results=pd.concat([data[\"product_option_1\"],data[\"product_option_2\"]])\n",
    "    results.drop_duplicates(inplace=True)\n",
    "    results=pd.DataFrame(results,columns=[\"product\"])\n",
    "    return(results)"
   ]
  },
  {
   "cell_type": "code",
   "execution_count": 4,
   "metadata": {},
   "outputs": [],
   "source": [
    "external_data=data_generator(variant=[\"diet\",\"dit\",\"diiet\",\"\"],\n",
    "                             flavour=[\"vanilla\",\"chocolate\",\"acid\"],\n",
    "                             product=[\"coke\",\"cokke\",\"spriite\",\"sprite\",\"prite\",\"fanta\",\"afnta\",\"pepsi\"],\n",
    "                             quantity=[\"500ml\",\"1.5L\",\"2.25L\",\"354ml\",\"500cc\",\"354cc\",\n",
    "                                       \"500 ml\",\"1.5 L\",\"2.25 L\",\"354 ml\",\"500 cc\",\"354 cc\",\n",
    "                                       \"500 ml.\",\"1.5 LT.\",\"2.25 L\",\"354 ml\",\"500 cc\",\"354 cc\",\n",
    "                                       \"500 ml.\",\"1.5 l.\",\"2.25 l\",\"354 ml.\",\"500 cc.\",\"354 cc\",\n",
    "                                       \"500 ml\",\"1.5 lts\",\"2.25 lts\",\"354 ml\",\"500 cc\",\"354 cc\",\n",
    "                                       \"500 ml.\",\"1.5 lts.\",\"2.25 lts\",\"354 ml\",\"500 cc\",\"354 cc\",\n",
    "                                       \"500 ml.\",\"1.5 lt.\",\"2.25 lt\",\"354 ml.\",\"500 cc.\",\"354 cc\"])"
   ]
  },
  {
   "cell_type": "code",
   "execution_count": 5,
   "metadata": {},
   "outputs": [],
   "source": [
    "# Beverages of internal source\n",
    "variant=[\"DIET\"]\n",
    "product=[\"COKE\",\"SPRITE\",\"FANTA\",\"PEPSI\"]\n",
    "flavour=[\"VANILLA\",\"CHOCOLATE\",\"COCO\",\"STRAWBERRY\"]\n",
    "quantity=[\"X 500ML\",\"X 1.5L\",\"X 2.25L\",\"X 354ML\"]\n",
    "permutations=itertools.product(variant,flavour,product,quantity)\n",
    "combinations=list(permutations)\n",
    "internal_data=pd.DataFrame(combinations, columns=[\"variant\",\"flavour\",\"product\",\"quantity\"])\n",
    "internal_data[\"product_name\"]=internal_data[\"variant\"]+\" \"+internal_data[\"flavour\"]+\" \"+internal_data[\"product\"]+\" \"+internal_data[\"quantity\"]\n",
    "internal_data=pd.DataFrame(internal_data[\"product_name\"])"
   ]
  },
  {
   "cell_type": "markdown",
   "metadata": {},
   "source": [
    "### 3. String preprocessing"
   ]
  },
  {
   "cell_type": "code",
   "execution_count": 6,
   "metadata": {},
   "outputs": [],
   "source": [
    "def string_processing(df:pd.DataFrame,columns_to_clean:list):\n",
    "    \"\"\"\n",
    "    Function to clean specific columns of a dataframe\n",
    "    args:\n",
    "        df= pandas dataframe\n",
    "        ignored_columns=\n",
    "    \"\"\"\n",
    "    for col in df.columns.difference(columns_to_clean):\n",
    "        \n",
    "        #Convert strings to lowercase\n",
    "        df[col] = df[col].str.lower()\n",
    "        \n",
    "        #Remove the \"-\" symbol\n",
    "        df[col] = df[col].str.replace(r\"(\\-)\",\"\",regex=True)\n",
    "\n",
    "        # Remove words that don't add information\n",
    "        df[col] = df[col].str.replace(r\"(beverages|beverage)\",\"\",regex=True)\n",
    "        \n",
    "        # Replace consecutive blank spaces for 1 blank space\n",
    "        df[col] = df[col].str.replace(r\"(  |   )\", \" \",regex=True)\n",
    "        df[col] = df[col].str.replace(r\"(  )\", \" \",regex=True)\n",
    "        \n",
    "        # Remove starting blank space\n",
    "        df[col] = df[col].str.replace(r\"(^ )\", \"\",regex=True)\n",
    "        \n",
    "        # Remove blank space at the end\n",
    "        df[col] = df[col].str.replace(r\"( $)\", \"\",regex=True)\n",
    "        \n",
    "        # Standardize the spelling of litres and ml\n",
    "        df[col] = df[col].str.replace(r\"(\\s?l$|\\s?lt$|\\s?lt\\.$|\\sl\\.$|\\s?lts$|\\s?lts\\.$)\", \"l\",regex=True)\n",
    "        df[col] = df[col].str.replace(r\"((?<![\\w])|(?<=\\d))(ml\\.?$|cc\\.?$)\", \"ml\",regex=True)\n",
    "        df[col] = df[col].str.replace(r\"(\\s?ml$)\", \"ml\",regex=True)\n",
    "        df[col] = df[col].str.replace(r\"((?<=\\d))(\\s?l$)\", \"l\",regex=True)"
   ]
  },
  {
   "cell_type": "code",
   "execution_count": 7,
   "metadata": {},
   "outputs": [],
   "source": [
    "# Create copies of main columns to be modified\n",
    "external_data[\"product_cleaned_from\"]=external_data[\"product\"].copy()\n",
    "internal_data[\"product_cleaned_to\"]=internal_data[\"product_name\"].copy()"
   ]
  },
  {
   "cell_type": "code",
   "execution_count": 8,
   "metadata": {},
   "outputs": [],
   "source": [
    "# Clean columns\n",
    "string_processing(df=external_data,columns_to_clean=[\"product\"])\n",
    "string_processing(df=internal_data,columns_to_clean=[\"product_name\"])"
   ]
  },
  {
   "cell_type": "markdown",
   "metadata": {},
   "source": [
    "### 4. String matching with Tf-Idf Vectorization"
   ]
  },
  {
   "cell_type": "code",
   "execution_count": 9,
   "metadata": {},
   "outputs": [],
   "source": [
    "# We import sklearns' TFIDF Vectorizer\n",
    "from sklearn.feature_extraction.text import TfidfVectorizer\n",
    "from sklearn.metrics.pairwise import cosine_similarity"
   ]
  },
  {
   "cell_type": "code",
   "execution_count": 10,
   "metadata": {},
   "outputs": [],
   "source": [
    "# Function to partition strings into n-grams (modified for the example)\n",
    "def _create_ngrams(string: str):\n",
    "        \"\"\" Create n_grams from a string\n",
    "        Steps:\n",
    "            * Extract character-level ngrams with `self.n_gram_range` (both ends inclusive)\n",
    "            * Remove n-grams that have a whitespace in them\n",
    "        \"\"\"\n",
    "        result = []\n",
    "        for n in range(3, 4):\n",
    "            ngrams = zip(*[string[i:] for i in range(n)])\n",
    "            ngrams = [''.join(ngram) for ngram in ngrams if ' ' not in ngram]\n",
    "            result.extend(ngrams)\n",
    "\n",
    "        return result"
   ]
  },
  {
   "cell_type": "code",
   "execution_count": 11,
   "metadata": {},
   "outputs": [],
   "source": [
    "# We define 2 lists to be matched, where the \"to_list\" can be seen as the reference (for example, a product catalogue)\n",
    "from_list = [\"coke 1.5L\",\"sprite zero 1.5L\"]\n",
    "to_list = [\"diet coke 1.5L\"]\n",
    "\n",
    "# We define the vectorizer using the union of elements of both lists\n",
    "  # With min_df=1\n",
    "  # With analyzer=_create_ngrams we are specifying the function to create the n grams\n",
    "vectorizer = TfidfVectorizer(min_df=1, analyzer=_create_ngrams).fit(to_list + from_list)\n",
    "\n",
    "# Ya teniendo el vectorizer generamos matrices esparsas con tantas columnas como n-gramas únicos y filas como palabras en cada lista\n",
    "# After fitting the vectorizer, we generate sparse matrix with\n",
    " # as many columns as unique n-grams\n",
    " # as many rows as words in each list\n",
    "tf_idf_to = vectorizer.transform(to_list)\n",
    "tf_idf_from = vectorizer.transform(from_list)"
   ]
  },
  {
   "cell_type": "code",
   "execution_count": 12,
   "metadata": {},
   "outputs": [
    {
     "data": {
      "text/plain": [
       "{'die': 3,\n",
       " 'iet': 5,\n",
       " 'cok': 2,\n",
       " 'oke': 7,\n",
       " '1.5': 1,\n",
       " '.5L': 0,\n",
       " 'spr': 10,\n",
       " 'pri': 8,\n",
       " 'rit': 9,\n",
       " 'ite': 6,\n",
       " 'zer': 11,\n",
       " 'ero': 4}"
      ]
     },
     "execution_count": 12,
     "metadata": {},
     "output_type": "execute_result"
    }
   ],
   "source": [
    "# Check the vocabulary of the vectorizer, i.e. the unique partitions of n-grams\n",
    "vectorizer.vocabulary_"
   ]
  },
  {
   "cell_type": "code",
   "execution_count": 13,
   "metadata": {},
   "outputs": [],
   "source": [
    "#We check the matrices\n",
    "matrix_from=pd.DataFrame(tf_idf_from.todense(),columns=sorted(vectorizer.vocabulary_))\n",
    "matrix_to=pd.DataFrame(tf_idf_to.todense(),columns=sorted(vectorizer.vocabulary_))"
   ]
  },
  {
   "cell_type": "code",
   "execution_count": 14,
   "metadata": {
    "scrolled": true
   },
   "outputs": [
    {
     "data": {
      "text/html": [
       "<div>\n",
       "<style scoped>\n",
       "    .dataframe tbody tr th:only-of-type {\n",
       "        vertical-align: middle;\n",
       "    }\n",
       "\n",
       "    .dataframe tbody tr th {\n",
       "        vertical-align: top;\n",
       "    }\n",
       "\n",
       "    .dataframe thead th {\n",
       "        text-align: right;\n",
       "    }\n",
       "</style>\n",
       "<table border=\"1\" class=\"dataframe\">\n",
       "  <thead>\n",
       "    <tr style=\"text-align: right;\">\n",
       "      <th></th>\n",
       "      <th>.5L</th>\n",
       "      <th>1.5</th>\n",
       "      <th>cok</th>\n",
       "      <th>die</th>\n",
       "      <th>ero</th>\n",
       "      <th>iet</th>\n",
       "      <th>ite</th>\n",
       "      <th>oke</th>\n",
       "      <th>pri</th>\n",
       "      <th>rit</th>\n",
       "      <th>spr</th>\n",
       "      <th>zer</th>\n",
       "    </tr>\n",
       "  </thead>\n",
       "  <tbody>\n",
       "    <tr>\n",
       "      <th>0</th>\n",
       "      <td>0.433708</td>\n",
       "      <td>0.433708</td>\n",
       "      <td>0.558478</td>\n",
       "      <td>0.0</td>\n",
       "      <td>0.000000</td>\n",
       "      <td>0.0</td>\n",
       "      <td>0.000000</td>\n",
       "      <td>0.558478</td>\n",
       "      <td>0.000000</td>\n",
       "      <td>0.000000</td>\n",
       "      <td>0.000000</td>\n",
       "      <td>0.000000</td>\n",
       "    </tr>\n",
       "    <tr>\n",
       "      <th>1</th>\n",
       "      <td>0.228215</td>\n",
       "      <td>0.228215</td>\n",
       "      <td>0.000000</td>\n",
       "      <td>0.0</td>\n",
       "      <td>0.386401</td>\n",
       "      <td>0.0</td>\n",
       "      <td>0.386401</td>\n",
       "      <td>0.000000</td>\n",
       "      <td>0.386401</td>\n",
       "      <td>0.386401</td>\n",
       "      <td>0.386401</td>\n",
       "      <td>0.386401</td>\n",
       "    </tr>\n",
       "  </tbody>\n",
       "</table>\n",
       "</div>"
      ],
      "text/plain": [
       "        .5L       1.5       cok  die       ero  iet       ite       oke  \\\n",
       "0  0.433708  0.433708  0.558478  0.0  0.000000  0.0  0.000000  0.558478   \n",
       "1  0.228215  0.228215  0.000000  0.0  0.386401  0.0  0.386401  0.000000   \n",
       "\n",
       "        pri       rit       spr       zer  \n",
       "0  0.000000  0.000000  0.000000  0.000000  \n",
       "1  0.386401  0.386401  0.386401  0.386401  "
      ]
     },
     "execution_count": 14,
     "metadata": {},
     "output_type": "execute_result"
    }
   ],
   "source": [
    "matrix_from"
   ]
  },
  {
   "cell_type": "code",
   "execution_count": 15,
   "metadata": {
    "scrolled": true
   },
   "outputs": [
    {
     "data": {
      "text/html": [
       "<div>\n",
       "<style scoped>\n",
       "    .dataframe tbody tr th:only-of-type {\n",
       "        vertical-align: middle;\n",
       "    }\n",
       "\n",
       "    .dataframe tbody tr th {\n",
       "        vertical-align: top;\n",
       "    }\n",
       "\n",
       "    .dataframe thead th {\n",
       "        text-align: right;\n",
       "    }\n",
       "</style>\n",
       "<table border=\"1\" class=\"dataframe\">\n",
       "  <thead>\n",
       "    <tr style=\"text-align: right;\">\n",
       "      <th></th>\n",
       "      <th>.5L</th>\n",
       "      <th>1.5</th>\n",
       "      <th>cok</th>\n",
       "      <th>die</th>\n",
       "      <th>ero</th>\n",
       "      <th>iet</th>\n",
       "      <th>ite</th>\n",
       "      <th>oke</th>\n",
       "      <th>pri</th>\n",
       "      <th>rit</th>\n",
       "      <th>spr</th>\n",
       "      <th>zer</th>\n",
       "    </tr>\n",
       "  </thead>\n",
       "  <tbody>\n",
       "    <tr>\n",
       "      <th>0</th>\n",
       "      <td>0.300832</td>\n",
       "      <td>0.300832</td>\n",
       "      <td>0.387376</td>\n",
       "      <td>0.509353</td>\n",
       "      <td>0.0</td>\n",
       "      <td>0.509353</td>\n",
       "      <td>0.0</td>\n",
       "      <td>0.387376</td>\n",
       "      <td>0.0</td>\n",
       "      <td>0.0</td>\n",
       "      <td>0.0</td>\n",
       "      <td>0.0</td>\n",
       "    </tr>\n",
       "  </tbody>\n",
       "</table>\n",
       "</div>"
      ],
      "text/plain": [
       "        .5L       1.5       cok       die  ero       iet  ite       oke  pri  \\\n",
       "0  0.300832  0.300832  0.387376  0.509353  0.0  0.509353  0.0  0.387376  0.0   \n",
       "\n",
       "   rit  spr  zer  \n",
       "0  0.0  0.0  0.0  "
      ]
     },
     "execution_count": 15,
     "metadata": {},
     "output_type": "execute_result"
    }
   ],
   "source": [
    "matrix_to"
   ]
  },
  {
   "cell_type": "code",
   "execution_count": 16,
   "metadata": {},
   "outputs": [
    {
     "data": {
      "text/plain": [
       "array([[0.69362794],\n",
       "       [0.13730861]])"
      ]
     },
     "execution_count": 16,
     "metadata": {},
     "output_type": "execute_result"
    }
   ],
   "source": [
    "# We calculate the similarity between the pairs of vectors\n",
    "cosine_similarity(matrix_from, matrix_to)"
   ]
  },
  {
   "cell_type": "code",
   "execution_count": 17,
   "metadata": {
    "scrolled": true
   },
   "outputs": [
    {
     "data": {
      "text/plain": [
       "(0.6936279421797706, 0.1373086119752811)"
      ]
     },
     "execution_count": 17,
     "metadata": {},
     "output_type": "execute_result"
    }
   ],
   "source": [
    "# Alternatively we could have avoided importing the cosine similarity function\n",
    "# and use the dot product.\n",
    "np.dot(np.array(matrix_from.iloc[0]),\n",
    "       np.array(matrix_to.iloc[0])),np.dot(np.array(matrix_from.iloc[1]),\n",
    "                                           np.array(matrix_to.iloc[0]))"
   ]
  },
  {
   "cell_type": "markdown",
   "metadata": {},
   "source": [
    "### 5. Additional useful measures: Token set ratio and Levenshtein distance"
   ]
  },
  {
   "cell_type": "code",
   "execution_count": 18,
   "metadata": {},
   "outputs": [],
   "source": [
    "# We create 2 strings\n",
    "s1=\"diet coke 600ml\"\n",
    "s2=\"diet cooke diet 600ml\"\n",
    "\n",
    "# We preprocess and tokenize the strings\n",
    "tokens1 = set(fuzz.utils.full_process(s1).split())\n",
    "tokens2 = set(fuzz.utils.full_process(s2).split())\n",
    "\n",
    "# We obtain the intersection and differences of both sets\n",
    "intersection = tokens1.intersection(tokens2)\n",
    "diff1to2 = tokens1.difference(tokens2)\n",
    "diff2to1 = tokens2.difference(tokens1)\n",
    "\n",
    "# We concatenate the ordered the sets\n",
    "sorted_sect = \" \".join(sorted(intersection))\n",
    "sorted_1to2 = \" \".join(sorted(diff1to2))\n",
    "sorted_2to1 = \" \".join(sorted(diff2to1))\n",
    "\n",
    "# We combine the results\n",
    "combined_1to2 = sorted_sect + \" \" + sorted_1to2\n",
    "combined_2to1 = sorted_sect + \" \" + sorted_2to1\n",
    "\n",
    "# We remove redundant whitespaces\n",
    "sorted_sect = sorted_sect.strip()\n",
    "combined_1to2 = combined_1to2.strip()\n",
    "combined_2to1 = combined_2to1.strip()"
   ]
  },
  {
   "cell_type": "code",
   "execution_count": 19,
   "metadata": {},
   "outputs": [
    {
     "data": {
      "text/plain": [
       "{'600ml', 'coke', 'diet'}"
      ]
     },
     "execution_count": 19,
     "metadata": {},
     "output_type": "execute_result"
    }
   ],
   "source": [
    "tokens1"
   ]
  },
  {
   "cell_type": "code",
   "execution_count": 20,
   "metadata": {},
   "outputs": [
    {
     "data": {
      "text/plain": [
       "[0.8, 0.77, 0.97]"
      ]
     },
     "execution_count": 20,
     "metadata": {},
     "output_type": "execute_result"
    }
   ],
   "source": [
    "# We calculate the fuzz ratio\n",
    "pairwise = [fuzz.ratio(sorted_sect, combined_1to2)/100,\n",
    "            fuzz.ratio(sorted_sect, combined_2to1)/100,\n",
    "            fuzz.ratio(combined_1to2, combined_2to1)/100]\n",
    "pairwise"
   ]
  },
  {
   "cell_type": "code",
   "execution_count": 21,
   "metadata": {},
   "outputs": [
    {
     "data": {
      "text/plain": [
       "0.97"
      ]
     },
     "execution_count": 21,
     "metadata": {},
     "output_type": "execute_result"
    }
   ],
   "source": [
    "# We pick the max\n",
    "max(pairwise)"
   ]
  },
  {
   "cell_type": "code",
   "execution_count": 22,
   "metadata": {},
   "outputs": [
    {
     "data": {
      "text/plain": [
       "('600ml diet coke', '600ml diet cooke')"
      ]
     },
     "execution_count": 22,
     "metadata": {},
     "output_type": "execute_result"
    }
   ],
   "source": [
    "# which is obtained by comparing\n",
    "combined_1to2, combined_2to1"
   ]
  },
  {
   "cell_type": "code",
   "execution_count": 23,
   "metadata": {},
   "outputs": [
    {
     "data": {
      "text/plain": [
       "1"
      ]
     },
     "execution_count": 23,
     "metadata": {},
     "output_type": "execute_result"
    }
   ],
   "source": [
    "# bonus, levenshtein distance:\n",
    "edit_distance(combined_1to2,combined_2to1)"
   ]
  },
  {
   "cell_type": "markdown",
   "metadata": {},
   "source": [
    "### 6. Building a baseline model"
   ]
  },
  {
   "cell_type": "code",
   "execution_count": 24,
   "metadata": {},
   "outputs": [],
   "source": [
    "# Call the TFIDF vectorizer from PolyFuzz while specifying:\n",
    " # the n_grams in which the list items will be partitioned,\n",
    " # the min similarity to be considered in the output\n",
    " # whether or not stopwords and punctuations will be cleared\n",
    "\n",
    "tfidf_vectorizer = TFIDF(n_gram_range=(3,3),clean_string=True)\n",
    "\n",
    "# Define an instance of the PolyFuzz class using the tfidf_vectorizer model\n",
    "model = PolyFuzz(tfidf_vectorizer)\n",
    "\n",
    "# Specify a list from which its items will be matched to a refrence list\n",
    "from_data = list(external_data[\"product_cleaned_from\"])\n",
    "to_data = list(internal_data[\"product_cleaned_to\"])\n",
    "\n",
    "# Send the lists of elements for the matching\n",
    "model.match(from_data, to_data)\n",
    "\n",
    "# Obtain the matches\n",
    "matches = model.get_matches()\n",
    "matches.dropna(inplace=True)\n",
    "\n",
    "# Drop duplicates\n",
    "data_matched = matches.drop_duplicates([\"From\",\"To\"]).reset_index(drop=True).copy()\n",
    "\n",
    "# Add some additional similarity measures\n",
    " # Token set ratio \n",
    "data_matched[\"Token_set_ratio\"]=data_matched.apply(lambda x: fuzz.token_set_ratio(x[\"From\"],x[\"To\"])/100,axis=1)\n",
    "\n",
    " # Levenshtein distance\n",
    "data_matched[\"Edit_distance\"]= data_matched.apply(lambda x: edit_distance(x['From'],x['To']),axis=1)\n",
    "\n",
    "# Extract the unity of measures of the products\n",
    "data_matched[\"Quantity_from\"]=data_matched[\"From\"].str.extract(r\"(\\d+?\\.?\\d+?\\s?ml$|\\d?\\d+?\\.?\\d+?\\s?l$|\\s\\d?l$)\")\n",
    "data_matched[\"Quantity_to\"]=data_matched[\"To\"].str.extract(r\"(\\d+?\\.?\\d+?\\s?ml$|\\d?\\d+?\\.?\\d+?\\s?l$|\\s\\d?l$)\")\n",
    "\n",
    "# Specify the origin columns used for the matching process to be able to match the dataframes\n",
    "data_matched[\"Property_from\"] = \"product_cleaned_from\"\n",
    "data_matched[\"Property_to\"] = \"product_cleaned_to\"\n",
    "\n",
    "# Match the results with the input data to associate them with all their data\n",
    "# First we merge the external_data\n",
    "data_matched = pd.merge(data_matched,external_data,left_on=\"From\",right_on=f\"{data_matched.Property_from[0]}\")\n",
    "\n",
    "# Then we use the previous join to merge it with the internal data\n",
    "final_results = pd.merge(data_matched,internal_data,left_on=\"To\",right_on=\"product_cleaned_to\")\n",
    "\n",
    "final_results=final_results[[\"product\",\"product_name\",\"From\",\"To\",\"Similarity\",\n",
    "                             \"Token_set_ratio\",\"Edit_distance\",\"Quantity_from\",\"Quantity_to\"]]"
   ]
  },
  {
   "cell_type": "code",
   "execution_count": 25,
   "metadata": {},
   "outputs": [
    {
     "data": {
      "text/html": [
       "<div>\n",
       "<style scoped>\n",
       "    .dataframe tbody tr th:only-of-type {\n",
       "        vertical-align: middle;\n",
       "    }\n",
       "\n",
       "    .dataframe tbody tr th {\n",
       "        vertical-align: top;\n",
       "    }\n",
       "\n",
       "    .dataframe thead th {\n",
       "        text-align: right;\n",
       "    }\n",
       "</style>\n",
       "<table border=\"1\" class=\"dataframe\">\n",
       "  <thead>\n",
       "    <tr style=\"text-align: right;\">\n",
       "      <th></th>\n",
       "      <th>product</th>\n",
       "      <th>product_name</th>\n",
       "      <th>From</th>\n",
       "      <th>To</th>\n",
       "      <th>Similarity</th>\n",
       "      <th>Token_set_ratio</th>\n",
       "      <th>Edit_distance</th>\n",
       "      <th>Quantity_from</th>\n",
       "      <th>Quantity_to</th>\n",
       "    </tr>\n",
       "  </thead>\n",
       "  <tbody>\n",
       "    <tr>\n",
       "      <th>570</th>\n",
       "      <td>beverage  acid coke 2.25 lt</td>\n",
       "      <td>DIET VANILLA COKE X 2.25L</td>\n",
       "      <td>acid coke 2.25l</td>\n",
       "      <td>diet vanilla coke x 2.25l</td>\n",
       "      <td>0.601</td>\n",
       "      <td>0.80</td>\n",
       "      <td>12</td>\n",
       "      <td>2.25l</td>\n",
       "      <td>2.25l</td>\n",
       "    </tr>\n",
       "    <tr>\n",
       "      <th>4318</th>\n",
       "      <td>beverage dit chocolate pepsi 1.5 l.</td>\n",
       "      <td>DIET CHOCOLATE PEPSI X 1.5L</td>\n",
       "      <td>dit chocolate pepsi 1.5l</td>\n",
       "      <td>diet chocolate pepsi x 1.5l</td>\n",
       "      <td>0.901</td>\n",
       "      <td>0.94</td>\n",
       "      <td>3</td>\n",
       "      <td>1.5l</td>\n",
       "      <td>1.5l</td>\n",
       "    </tr>\n",
       "    <tr>\n",
       "      <th>2595</th>\n",
       "      <td>beverages pepsi dit acid 500cc</td>\n",
       "      <td>DIET VANILLA PEPSI X 500ML</td>\n",
       "      <td>pepsi dit acid 500ml</td>\n",
       "      <td>diet vanilla pepsi x 500ml</td>\n",
       "      <td>0.669</td>\n",
       "      <td>0.71</td>\n",
       "      <td>16</td>\n",
       "      <td>500ml</td>\n",
       "      <td>500ml</td>\n",
       "    </tr>\n",
       "    <tr>\n",
       "      <th>354</th>\n",
       "      <td>beverage dit acid cokke 1.5 L</td>\n",
       "      <td>DIET VANILLA COKE X 1.5L</td>\n",
       "      <td>dit acid cokke 1.5l</td>\n",
       "      <td>diet vanilla coke x 1.5l</td>\n",
       "      <td>0.222</td>\n",
       "      <td>0.60</td>\n",
       "      <td>9</td>\n",
       "      <td>1.5l</td>\n",
       "      <td>1.5l</td>\n",
       "    </tr>\n",
       "    <tr>\n",
       "      <th>3516</th>\n",
       "      <td>beverages prite diiet chocolate 1.5 lts</td>\n",
       "      <td>DIET CHOCOLATE SPRITE X 1.5L</td>\n",
       "      <td>prite diiet chocolate 1.5l</td>\n",
       "      <td>diet chocolate sprite x 1.5l</td>\n",
       "      <td>0.821</td>\n",
       "      <td>0.93</td>\n",
       "      <td>16</td>\n",
       "      <td>1.5l</td>\n",
       "      <td>1.5l</td>\n",
       "    </tr>\n",
       "    <tr>\n",
       "      <th>1783</th>\n",
       "      <td>beverage diiet vanilla spriite 354 cc</td>\n",
       "      <td>DIET VANILLA SPRITE X 354ML</td>\n",
       "      <td>diiet vanilla spriite 354ml</td>\n",
       "      <td>diet vanilla sprite x 354ml</td>\n",
       "      <td>0.739</td>\n",
       "      <td>0.93</td>\n",
       "      <td>4</td>\n",
       "      <td>354ml</td>\n",
       "      <td>354ml</td>\n",
       "    </tr>\n",
       "    <tr>\n",
       "      <th>477</th>\n",
       "      <td>beverages coke  vanilla 2.25 L</td>\n",
       "      <td>DIET VANILLA COKE X 2.25L</td>\n",
       "      <td>coke vanilla 2.25l</td>\n",
       "      <td>diet vanilla coke x 2.25l</td>\n",
       "      <td>0.926</td>\n",
       "      <td>1.00</td>\n",
       "      <td>11</td>\n",
       "      <td>2.25l</td>\n",
       "      <td>2.25l</td>\n",
       "    </tr>\n",
       "    <tr>\n",
       "      <th>2795</th>\n",
       "      <td>beverages pepsi dit vanilla 2.25 L</td>\n",
       "      <td>DIET VANILLA PEPSI X 2.25L</td>\n",
       "      <td>pepsi dit vanilla 2.25l</td>\n",
       "      <td>diet vanilla pepsi x 2.25l</td>\n",
       "      <td>0.900</td>\n",
       "      <td>0.94</td>\n",
       "      <td>15</td>\n",
       "      <td>2.25l</td>\n",
       "      <td>2.25l</td>\n",
       "    </tr>\n",
       "    <tr>\n",
       "      <th>990</th>\n",
       "      <td>beverage  vanilla spriite 500 ml</td>\n",
       "      <td>DIET VANILLA SPRITE X 500ML</td>\n",
       "      <td>vanilla spriite 500ml</td>\n",
       "      <td>diet vanilla sprite x 500ml</td>\n",
       "      <td>0.759</td>\n",
       "      <td>0.83</td>\n",
       "      <td>8</td>\n",
       "      <td>500ml</td>\n",
       "      <td>500ml</td>\n",
       "    </tr>\n",
       "    <tr>\n",
       "      <th>2014</th>\n",
       "      <td>beverage  vanilla afnta 500ml</td>\n",
       "      <td>DIET VANILLA FANTA X 500ML</td>\n",
       "      <td>vanilla afnta 500ml</td>\n",
       "      <td>diet vanilla fanta x 500ml</td>\n",
       "      <td>0.658</td>\n",
       "      <td>0.81</td>\n",
       "      <td>9</td>\n",
       "      <td>500ml</td>\n",
       "      <td>500ml</td>\n",
       "    </tr>\n",
       "    <tr>\n",
       "      <th>3650</th>\n",
       "      <td>beverages prite dit chocolate 2.25 L</td>\n",
       "      <td>DIET CHOCOLATE SPRITE X 2.25L</td>\n",
       "      <td>prite dit chocolate 2.25l</td>\n",
       "      <td>diet chocolate sprite x 2.25l</td>\n",
       "      <td>0.854</td>\n",
       "      <td>0.93</td>\n",
       "      <td>15</td>\n",
       "      <td>2.25l</td>\n",
       "      <td>2.25l</td>\n",
       "    </tr>\n",
       "    <tr>\n",
       "      <th>3586</th>\n",
       "      <td>beverage diiet chocolate spriite 1.5 lts</td>\n",
       "      <td>DIET CHOCOLATE SPRITE X 1.5L</td>\n",
       "      <td>diiet chocolate spriite 1.5l</td>\n",
       "      <td>diet chocolate sprite x 1.5l</td>\n",
       "      <td>0.720</td>\n",
       "      <td>0.93</td>\n",
       "      <td>4</td>\n",
       "      <td>1.5l</td>\n",
       "      <td>1.5l</td>\n",
       "    </tr>\n",
       "    <tr>\n",
       "      <th>1650</th>\n",
       "      <td>beverages sprite dit acid 354ml</td>\n",
       "      <td>DIET VANILLA SPRITE X 354ML</td>\n",
       "      <td>sprite dit acid 354ml</td>\n",
       "      <td>diet vanilla sprite x 354ml</td>\n",
       "      <td>0.635</td>\n",
       "      <td>0.73</td>\n",
       "      <td>18</td>\n",
       "      <td>354ml</td>\n",
       "      <td>354ml</td>\n",
       "    </tr>\n",
       "    <tr>\n",
       "      <th>899</th>\n",
       "      <td>beverage diet acid spriite 500cc</td>\n",
       "      <td>DIET VANILLA SPRITE X 500ML</td>\n",
       "      <td>diet acid spriite 500ml</td>\n",
       "      <td>diet vanilla sprite x 500ml</td>\n",
       "      <td>0.579</td>\n",
       "      <td>0.68</td>\n",
       "      <td>8</td>\n",
       "      <td>500ml</td>\n",
       "      <td>500ml</td>\n",
       "    </tr>\n",
       "    <tr>\n",
       "      <th>636</th>\n",
       "      <td>beverages coke  vanilla 354ml</td>\n",
       "      <td>DIET VANILLA COKE X 354ML</td>\n",
       "      <td>coke vanilla 354ml</td>\n",
       "      <td>diet vanilla coke x 354ml</td>\n",
       "      <td>0.933</td>\n",
       "      <td>1.00</td>\n",
       "      <td>11</td>\n",
       "      <td>354ml</td>\n",
       "      <td>354ml</td>\n",
       "    </tr>\n",
       "    <tr>\n",
       "      <th>1080</th>\n",
       "      <td>beverages prite dit vanilla 1.5L</td>\n",
       "      <td>DIET VANILLA SPRITE X 1.5L</td>\n",
       "      <td>prite dit vanilla 1.5l</td>\n",
       "      <td>diet vanilla sprite x 1.5l</td>\n",
       "      <td>0.806</td>\n",
       "      <td>0.92</td>\n",
       "      <td>15</td>\n",
       "      <td>1.5l</td>\n",
       "      <td>1.5l</td>\n",
       "    </tr>\n",
       "    <tr>\n",
       "      <th>318</th>\n",
       "      <td>beverage diet acid coke 1.5L</td>\n",
       "      <td>DIET VANILLA COKE X 1.5L</td>\n",
       "      <td>diet acid coke 1.5l</td>\n",
       "      <td>diet vanilla coke x 1.5l</td>\n",
       "      <td>0.653</td>\n",
       "      <td>0.85</td>\n",
       "      <td>7</td>\n",
       "      <td>1.5l</td>\n",
       "      <td>1.5l</td>\n",
       "    </tr>\n",
       "    <tr>\n",
       "      <th>853</th>\n",
       "      <td>beverages sprite  vanilla 500 cc</td>\n",
       "      <td>DIET VANILLA SPRITE X 500ML</td>\n",
       "      <td>sprite vanilla 500ml</td>\n",
       "      <td>diet vanilla sprite x 500ml</td>\n",
       "      <td>0.935</td>\n",
       "      <td>1.00</td>\n",
       "      <td>14</td>\n",
       "      <td>500ml</td>\n",
       "      <td>500ml</td>\n",
       "    </tr>\n",
       "    <tr>\n",
       "      <th>1955</th>\n",
       "      <td>beverage diet acid afnta 500cc</td>\n",
       "      <td>DIET VANILLA FANTA X 500ML</td>\n",
       "      <td>diet acid afnta 500ml</td>\n",
       "      <td>diet vanilla fanta x 500ml</td>\n",
       "      <td>0.472</td>\n",
       "      <td>0.65</td>\n",
       "      <td>8</td>\n",
       "      <td>500ml</td>\n",
       "      <td>500ml</td>\n",
       "    </tr>\n",
       "    <tr>\n",
       "      <th>979</th>\n",
       "      <td>beverage diiet acid sprite 500 cc</td>\n",
       "      <td>DIET VANILLA SPRITE X 500ML</td>\n",
       "      <td>diiet acid sprite 500ml</td>\n",
       "      <td>diet vanilla sprite x 500ml</td>\n",
       "      <td>0.617</td>\n",
       "      <td>0.69</td>\n",
       "      <td>8</td>\n",
       "      <td>500ml</td>\n",
       "      <td>500ml</td>\n",
       "    </tr>\n",
       "  </tbody>\n",
       "</table>\n",
       "</div>"
      ],
      "text/plain": [
       "                                       product                   product_name  \\\n",
       "570                beverage  acid coke 2.25 lt      DIET VANILLA COKE X 2.25L   \n",
       "4318       beverage dit chocolate pepsi 1.5 l.    DIET CHOCOLATE PEPSI X 1.5L   \n",
       "2595            beverages pepsi dit acid 500cc     DIET VANILLA PEPSI X 500ML   \n",
       "354              beverage dit acid cokke 1.5 L       DIET VANILLA COKE X 1.5L   \n",
       "3516   beverages prite diiet chocolate 1.5 lts   DIET CHOCOLATE SPRITE X 1.5L   \n",
       "1783     beverage diiet vanilla spriite 354 cc    DIET VANILLA SPRITE X 354ML   \n",
       "477             beverages coke  vanilla 2.25 L      DIET VANILLA COKE X 2.25L   \n",
       "2795        beverages pepsi dit vanilla 2.25 L     DIET VANILLA PEPSI X 2.25L   \n",
       "990           beverage  vanilla spriite 500 ml    DIET VANILLA SPRITE X 500ML   \n",
       "2014             beverage  vanilla afnta 500ml     DIET VANILLA FANTA X 500ML   \n",
       "3650      beverages prite dit chocolate 2.25 L  DIET CHOCOLATE SPRITE X 2.25L   \n",
       "3586  beverage diiet chocolate spriite 1.5 lts   DIET CHOCOLATE SPRITE X 1.5L   \n",
       "1650           beverages sprite dit acid 354ml    DIET VANILLA SPRITE X 354ML   \n",
       "899           beverage diet acid spriite 500cc    DIET VANILLA SPRITE X 500ML   \n",
       "636              beverages coke  vanilla 354ml      DIET VANILLA COKE X 354ML   \n",
       "1080          beverages prite dit vanilla 1.5L     DIET VANILLA SPRITE X 1.5L   \n",
       "318               beverage diet acid coke 1.5L       DIET VANILLA COKE X 1.5L   \n",
       "853           beverages sprite  vanilla 500 cc    DIET VANILLA SPRITE X 500ML   \n",
       "1955            beverage diet acid afnta 500cc     DIET VANILLA FANTA X 500ML   \n",
       "979          beverage diiet acid sprite 500 cc    DIET VANILLA SPRITE X 500ML   \n",
       "\n",
       "                              From                             To  Similarity  \\\n",
       "570                acid coke 2.25l      diet vanilla coke x 2.25l       0.601   \n",
       "4318      dit chocolate pepsi 1.5l    diet chocolate pepsi x 1.5l       0.901   \n",
       "2595          pepsi dit acid 500ml     diet vanilla pepsi x 500ml       0.669   \n",
       "354            dit acid cokke 1.5l       diet vanilla coke x 1.5l       0.222   \n",
       "3516    prite diiet chocolate 1.5l   diet chocolate sprite x 1.5l       0.821   \n",
       "1783   diiet vanilla spriite 354ml    diet vanilla sprite x 354ml       0.739   \n",
       "477             coke vanilla 2.25l      diet vanilla coke x 2.25l       0.926   \n",
       "2795       pepsi dit vanilla 2.25l     diet vanilla pepsi x 2.25l       0.900   \n",
       "990          vanilla spriite 500ml    diet vanilla sprite x 500ml       0.759   \n",
       "2014           vanilla afnta 500ml     diet vanilla fanta x 500ml       0.658   \n",
       "3650     prite dit chocolate 2.25l  diet chocolate sprite x 2.25l       0.854   \n",
       "3586  diiet chocolate spriite 1.5l   diet chocolate sprite x 1.5l       0.720   \n",
       "1650         sprite dit acid 354ml    diet vanilla sprite x 354ml       0.635   \n",
       "899        diet acid spriite 500ml    diet vanilla sprite x 500ml       0.579   \n",
       "636             coke vanilla 354ml      diet vanilla coke x 354ml       0.933   \n",
       "1080        prite dit vanilla 1.5l     diet vanilla sprite x 1.5l       0.806   \n",
       "318            diet acid coke 1.5l       diet vanilla coke x 1.5l       0.653   \n",
       "853           sprite vanilla 500ml    diet vanilla sprite x 500ml       0.935   \n",
       "1955         diet acid afnta 500ml     diet vanilla fanta x 500ml       0.472   \n",
       "979        diiet acid sprite 500ml    diet vanilla sprite x 500ml       0.617   \n",
       "\n",
       "      Token_set_ratio  Edit_distance Quantity_from Quantity_to  \n",
       "570              0.80             12         2.25l       2.25l  \n",
       "4318             0.94              3          1.5l        1.5l  \n",
       "2595             0.71             16         500ml       500ml  \n",
       "354              0.60              9          1.5l        1.5l  \n",
       "3516             0.93             16          1.5l        1.5l  \n",
       "1783             0.93              4         354ml       354ml  \n",
       "477              1.00             11         2.25l       2.25l  \n",
       "2795             0.94             15         2.25l       2.25l  \n",
       "990              0.83              8         500ml       500ml  \n",
       "2014             0.81              9         500ml       500ml  \n",
       "3650             0.93             15         2.25l       2.25l  \n",
       "3586             0.93              4          1.5l        1.5l  \n",
       "1650             0.73             18         354ml       354ml  \n",
       "899              0.68              8         500ml       500ml  \n",
       "636              1.00             11         354ml       354ml  \n",
       "1080             0.92             15          1.5l        1.5l  \n",
       "318              0.85              7          1.5l        1.5l  \n",
       "853              1.00             14         500ml       500ml  \n",
       "1955             0.65              8         500ml       500ml  \n",
       "979              0.69              8         500ml       500ml  "
      ]
     },
     "execution_count": 25,
     "metadata": {},
     "output_type": "execute_result"
    }
   ],
   "source": [
    "final_results.sample(20)"
   ]
  },
  {
   "cell_type": "code",
   "execution_count": null,
   "metadata": {},
   "outputs": [],
   "source": []
  }
 ],
 "metadata": {
  "kernelspec": {
   "display_name": "Python 3",
   "language": "python",
   "name": "python3"
  },
  "language_info": {
   "codemirror_mode": {
    "name": "ipython",
    "version": 3
   },
   "file_extension": ".py",
   "mimetype": "text/x-python",
   "name": "python",
   "nbconvert_exporter": "python",
   "pygments_lexer": "ipython3",
   "version": "3.8.8"
  }
 },
 "nbformat": 4,
 "nbformat_minor": 4
}
